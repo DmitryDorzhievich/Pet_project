{
 "cells": [
  {
   "cell_type": "markdown",
   "id": "3798c141-57f9-40f8-a2c0-d138cbc8fefe",
   "metadata": {},
   "source": [
    "# Импортируем необходимые библиотеки"
   ]
  },
  {
   "cell_type": "code",
   "execution_count": 714,
   "id": "6ef74b2d-1293-4b31-a617-14e38c50a862",
   "metadata": {},
   "outputs": [],
   "source": [
    "import math\n",
    "\n",
    "import pandas as pd\n",
    "import numpy as np\n",
    "\n",
    "import matplotlib as mpl\n",
    "import matplotlib.pyplot as plt\n",
    "import seaborn as sns"
   ]
  },
  {
   "cell_type": "markdown",
   "id": "607398ff-7f75-4dc5-88f5-df3354954bad",
   "metadata": {},
   "source": [
    "# Импортируем датасет"
   ]
  },
  {
   "cell_type": "code",
   "execution_count": 715,
   "id": "31320d12-f0a4-46c7-8394-4cc1d98e3a8b",
   "metadata": {},
   "outputs": [],
   "source": [
    "path = '/home/dmitry/reposit/Pet_project.test/data.csv'"
   ]
  },
  {
   "cell_type": "code",
   "execution_count": 716,
   "id": "00ec864c-6229-4ff4-b706-bdb22b5efd58",
   "metadata": {},
   "outputs": [],
   "source": [
    "pet = pd.read_csv(path)"
   ]
  },
  {
   "cell_type": "markdown",
   "id": "907d0411-3261-4f32-bb22-4831ebeaca0a",
   "metadata": {},
   "source": [
    "# Избавляемся от дубликатов объявлений"
   ]
  },
  {
   "cell_type": "code",
   "execution_count": 717,
   "id": "b93cbea2-a704-4464-a1f3-4904f47a3626",
   "metadata": {},
   "outputs": [],
   "source": [
    "duplicates = pet[pet.duplicated(subset=pet.columns.difference(['ad_id']))]\n",
    "pet.drop_duplicates(subset=pet.columns.difference(['ad_id']), keep=False, inplace=True)"
   ]
  },
  {
   "cell_type": "markdown",
   "id": "f537c663-7221-4abc-b962-746c7240cef5",
   "metadata": {},
   "source": [
    "# Приводим колонки таких опций как \"можно с детьми, можно с животными\", \"мусоропровод\" к численному виду"
   ]
  },
  {
   "cell_type": "code",
   "execution_count": 718,
   "id": "6153b748-b3d3-49a1-a5c1-4e1a2f9b28c7",
   "metadata": {},
   "outputs": [],
   "source": [
    "pet['childrens'] = pet['children_pets'].str.contains('Можно с детьми').astype(int)\n",
    "pet['animals'] = pet['children_pets'].str.contains('Можно с животными').astype(int)\n",
    "pet['trash_chute'] = pet['trash_chute'].str.contains('Да').astype(int)"
   ]
  },
  {
   "cell_type": "markdown",
   "id": "c7506290-bfa5-4ab5-ac36-d1a76f2f4192",
   "metadata": {},
   "source": [
    "# Приводим к численному виду количество и тип санузлов"
   ]
  },
  {
   "cell_type": "code",
   "execution_count": 719,
   "id": "f20d0caf-cbd4-4e19-b924-7bdcaa7c51ad",
   "metadata": {},
   "outputs": [],
   "source": [
    "pet['separated_bathroom'] = pet['bathroom'].str.extract(r'Раздельный \\((\\d+)\\)', expand=False).fillna(0).astype(int)\n",
    "pet['combined_bathroom'] = pet['bathroom'].str.extract(r'Совмещенный \\((\\d+)\\)', expand=False).fillna(0).astype(int)"
   ]
  },
  {
   "cell_type": "markdown",
   "id": "0d3b4755-7d16-4f09-92a2-b401af8c79a7",
   "metadata": {},
   "source": [
    "# Приводим к численному виду количество и тип балконов"
   ]
  },
  {
   "cell_type": "code",
   "execution_count": 720,
   "id": "b34c2a31-dc9f-4eb1-b2d0-b0cf6589a14d",
   "metadata": {},
   "outputs": [],
   "source": [
    "pet['balcon'] = pet['balcony'].str.extract(r'Балкон \\((\\d+)\\)', expand=False).fillna(0).astype(int)\n",
    "pet['loggia'] = pet['balcony'].str.extract(r'Лоджия \\((\\d+)\\)', expand=False).fillna(0).astype(int)"
   ]
  },
  {
   "cell_type": "markdown",
   "id": "c471e41d-5e6c-4418-a2e1-a0eaa74e16bb",
   "metadata": {},
   "source": [
    "# Присваиваем строкам численные значения на основе качества ремонта"
   ]
  },
  {
   "cell_type": "code",
   "execution_count": 721,
   "id": "c9d14a9e-20a6-4901-80cc-c369612855a7",
   "metadata": {},
   "outputs": [],
   "source": [
    "mapping = {'Нет ремонта': 0, 'Без ремонта': 0,'Косметический': 1, 'Евроремонт': 2, 'Дизайнерский': 3}\n",
    "pet['renovation'] = pet['renovation'].map(mapping)"
   ]
  },
  {
   "cell_type": "markdown",
   "id": "066168a8-26ef-42a4-86c1-1b0446854f9c",
   "metadata": {},
   "source": [
    "# Приводим к численному виду колонки с наличием и количеством лифтов"
   ]
  },
  {
   "cell_type": "code",
   "execution_count": 722,
   "id": "9014f769-1852-4c9f-9348-bd1dc9315dfe",
   "metadata": {},
   "outputs": [],
   "source": [
    "pet['passenger_elevator'] = pet['elevator'].str.extract(r'Пасс \\((\\d+)\\)', expand=False).fillna(0).astype(int)\n",
    "pet['service_lift'] = pet['elevator'].str.extract(r'Груз \\((\\d+)\\)', expand=False).fillna(0).astype(int)"
   ]
  },
  {
   "cell_type": "markdown",
   "id": "4afc36be-c542-46b9-ad97-0a62a7a36744",
   "metadata": {},
   "source": [
    "# Из колонки с описанием берем информацию о наличии бонуса риелтору"
   ]
  },
  {
   "cell_type": "code",
   "execution_count": 723,
   "id": "c0fd9e72-8f30-49ed-8579-9fe04a0047f7",
   "metadata": {},
   "outputs": [],
   "source": [
    "def check_bonus(description):\n",
    "    if 'Бонус' in description:\n",
    "        return 1\n",
    "    else:\n",
    "        return 0\n",
    "pet['bonus'] = pet['description'].apply(lambda x: check_bonus(x))"
   ]
  },
  {
   "cell_type": "markdown",
   "id": "8aa83aa9-0a30-4b4d-a294-55373b350e03",
   "metadata": {},
   "source": [
    "# Обрабатываем колонку \"house\" на наличие квартир на первых и последних этажах. Создаем новую колонку \"storey\" с нулями для крайних этажей и единицами для остальных"
   ]
  },
  {
   "cell_type": "code",
   "execution_count": 724,
   "id": "ce69fb3f-7ce7-437f-94ef-462fad63468d",
   "metadata": {},
   "outputs": [],
   "source": [
    "floor = []\n",
    "floors = []\n",
    "for i in pet['house'].tolist():\n",
    "    i = i.split(',')\n",
    "    for j in i:\n",
    "        if '/' in j:\n",
    "            j = j.split('/')\n",
    "            floor.append(int(j[0]))\n",
    "            floors.append(int(j[1]))\n",
    "pet['floor'] = floor\n",
    "pet['floors'] = floors"
   ]
  },
  {
   "cell_type": "code",
   "execution_count": 725,
   "id": "9724bb6d-5a90-4794-82d7-f44b39447c1e",
   "metadata": {},
   "outputs": [],
   "source": [
    "lst1 = pet['floor'].tolist()\n",
    "lst2 = pet['floors'].tolist()\n",
    "res_lst = []\n",
    "\n",
    "pet['res_floor'] = pet['floor'] == pet['floors']\n",
    "for i in lst1:\n",
    "    if i == 1:\n",
    "        res_lst.append(0)\n",
    "    else:\n",
    "        res_lst.append(1)\n",
    "lst_floor = pet['res_floor'] * res_lst\n",
    "pet['storey'] = lst_floor"
   ]
  },
  {
   "cell_type": "markdown",
   "id": "937b6cc5-4d9b-4c6d-8ed3-ffe07566c5dd",
   "metadata": {},
   "source": [
    "# Создаем новую колонку где кирпичным домам присваиваем единицу, а остальным ноль"
   ]
  },
  {
   "cell_type": "code",
   "execution_count": 726,
   "id": "9d05f638-2724-4ba5-adba-5997afb88a7e",
   "metadata": {},
   "outputs": [],
   "source": [
    "def check_bonus(description):\n",
    "    if 'ирпичный' in description:\n",
    "        return 1\n",
    "    else:\n",
    "        return 0\n",
    "\n",
    "pet['kirpich'] = pet['house'].apply(lambda x: check_bonus(x))"
   ]
  },
  {
   "cell_type": "markdown",
   "id": "06f07a23-5bcf-437b-be82-3972f5437cdc",
   "metadata": {},
   "source": [
    "# Создаем колонку где панельным домам присваиваем единицу, а остальным ноль"
   ]
  },
  {
   "cell_type": "code",
   "execution_count": 727,
   "id": "d2a7a767-d0a3-47fd-879e-350afcfe837b",
   "metadata": {},
   "outputs": [],
   "source": [
    "def check_bonus(description):\n",
    "    if 'анельный' in description:\n",
    "        return 1\n",
    "    else:\n",
    "        return 0\n",
    "\n",
    "pet['panelniy'] = pet['house'].apply(lambda x: check_bonus(x))"
   ]
  },
  {
   "cell_type": "markdown",
   "id": "f351581c-5894-4356-806a-3d41c5858911",
   "metadata": {},
   "source": [
    "# Приводим к численному виду колонку с типом парковки"
   ]
  },
  {
   "cell_type": "code",
   "execution_count": 728,
   "id": "88342ff9-c57e-4607-8163-6162655df58e",
   "metadata": {},
   "outputs": [],
   "source": [
    "mapping = {'Нет данных': 0, 'открытая': 0,'наземная': 1, 'подземная': 2, 'многоуровневая': 2, 'на крыше': 2}\n",
    "pet['parking'] = pet['parking'].map(mapping)"
   ]
  },
  {
   "cell_type": "markdown",
   "id": "c40d2cbe-b43a-49d2-b89c-0174ea484526",
   "metadata": {},
   "source": [
    "# Убираем выбросы из колонки со значением высоты потолка"
   ]
  },
  {
   "cell_type": "code",
   "execution_count": 729,
   "id": "7ffd8ecd-6a5c-44b5-abcf-b6d4dd3f1990",
   "metadata": {},
   "outputs": [],
   "source": [
    "lst_fl = []\n",
    "for i in pet['ceiling_height_(m)'].tolist():\n",
    "    if 2.0 <= i <= 6.0:\n",
    "        lst_fl.append(i)\n",
    "    elif 6.0 < i < 100.0:\n",
    "        lst_fl.append(i/10)\n",
    "    elif i < 2.0:\n",
    "        lst_fl.append(2.64)\n",
    "    else:\n",
    "        lst_fl.append(i/100)\n",
    "pet['new_ceilinghieght(m)'] = lst_fl"
   ]
  },
  {
   "cell_type": "markdown",
   "id": "cd47e051-bd87-4ab2-89b1-64d8cd14d941",
   "metadata": {},
   "source": [
    "# Создаем отдельные столбцы на наличие различных удобств в квартире"
   ]
  },
  {
   "cell_type": "code",
   "execution_count": 730,
   "id": "ab6d5ee5-d509-4a3c-b9f6-3df6aeb90d58",
   "metadata": {},
   "outputs": [],
   "source": [
    "def check_bonus(description):\n",
    "    if 'Мебель в комнатах' in description:\n",
    "        return 1\n",
    "    else:\n",
    "        return 0\n",
    "\n",
    "pet['mebel_v_komnatah'] = pet['additional_info'].apply(lambda x: check_bonus(x))\n",
    "\n",
    "\n",
    "def check_bonus(description):\n",
    "    if 'Мебель на кухне' in description:\n",
    "        return 1\n",
    "    else:\n",
    "        return 0\n",
    "\n",
    "pet['mebel_na_kuhne'] = pet['additional_info'].apply(lambda x: check_bonus(x))\n",
    "\n",
    "def check_bonus(description):\n",
    "    if 'Ванна' in description:\n",
    "        return 1\n",
    "    else:\n",
    "        return 0\n",
    "\n",
    "pet['vanna'] = pet['additional_info'].apply(lambda x: check_bonus(x))\n",
    "\n",
    "def check_bonus(description):\n",
    "    if 'Душ' in description:\n",
    "        return 1\n",
    "    else:\n",
    "        return 0\n",
    "\n",
    "pet['dush'] = pet['additional_info'].apply(lambda x: check_bonus(x))\n",
    "\n",
    "\n",
    "def check_bonus(description):\n",
    "    if 'Стиральная' in description:\n",
    "        return 1\n",
    "    else:\n",
    "        return 0\n",
    "\n",
    "pet['stiralnaya'] = pet['additional_info'].apply(lambda x: check_bonus(x))\n",
    "\n",
    "def check_bonus(description):\n",
    "    if 'Кондиционер' in description:\n",
    "        return 1\n",
    "    else:\n",
    "        return 0\n",
    "\n",
    "pet['kondisioner'] = pet['additional_info'].apply(lambda x: check_bonus(x))\n",
    "\n",
    "def check_bonus(description):\n",
    "    if 'Посудомо' in description:\n",
    "        return 1\n",
    "    else:\n",
    "        return 0\n",
    "\n",
    "pet['posudomoechnaya_mashina'] = pet['additional_info'].apply(lambda x: check_bonus(x))\n",
    "\n",
    "def check_bonus(description):\n",
    "    if 'Телевизор' in description:\n",
    "        return 1\n",
    "    else:\n",
    "        return 0\n",
    "\n",
    "pet['tv'] = pet['additional_info'].apply(lambda x: check_bonus(x))\n",
    "\n",
    "def check_bonus(description):\n",
    "    if 'Холодильник' in description:\n",
    "        return 1\n",
    "    else:\n",
    "        return 0\n",
    "\n",
    "pet['holod'] = pet['additional_info'].apply(lambda x: check_bonus(x))\n",
    "\n",
    "def check_bonus(description):\n",
    "    if 'Интернет' in description:\n",
    "        return 1\n",
    "    else:\n",
    "        return 0\n",
    "\n",
    "pet['internet'] = pet['additional_info'].apply(lambda x: check_bonus(x))\n",
    "\n",
    "def check_bonus(description):\n",
    "    if 'Телефон' in description:\n",
    "        return 1\n",
    "    else:\n",
    "        return 0\n",
    "\n",
    "pet['tel'] = pet['additional_info'].apply(lambda x: check_bonus(x))"
   ]
  },
  {
   "cell_type": "markdown",
   "id": "d58ccd4a-6ac6-4310-83cb-afacdd0e4d3c",
   "metadata": {},
   "source": [
    "# Удаляем выбросы из колонки с ценами"
   ]
  },
  {
   "cell_type": "code",
   "execution_count": 731,
   "id": "9daec44f-5cdb-46aa-961a-5b89447fed8d",
   "metadata": {},
   "outputs": [],
   "source": [
    "pet['price'] = pet['price'].apply(lambda x: 1500000 if x>1500000 else x)"
   ]
  },
  {
   "cell_type": "markdown",
   "id": "8060b6a3-0d59-43c7-a1d5-cabf1dfd9d1d",
   "metadata": {},
   "source": [
    "# Удаляем лишние колонки"
   ]
  },
  {
   "cell_type": "code",
   "execution_count": 732,
   "id": "1aae3fc8-9492-41b2-9788-393df5563672",
   "metadata": {},
   "outputs": [],
   "source": [
    "pet = pet.drop('address',axis=1)\n",
    "pet = pet.drop('children_pets',axis=1)\n",
    "pet = pet.drop('trash_chute',axis=1)\n",
    "pet = pet.drop('bathroom',axis=1)\n",
    "pet = pet.drop('balcony',axis=1)\n",
    "pet = pet.drop('elevator',axis=1)\n",
    "pet = pet.drop('description',axis=1)\n",
    "pet = pet.drop('house',axis=1)\n",
    "pet = pet.drop('additional_info',axis=1)\n",
    "pet = pet.drop('floor',axis=1)\n",
    "pet = pet.drop('floors',axis=1)\n",
    "pet = pet.drop('res_floor',axis=1)"
   ]
  },
  {
   "cell_type": "markdown",
   "id": "3635b501-215b-41e9-a8fe-dd8cc5564c15",
   "metadata": {},
   "source": [
    "# Сохраняем новую таблицу с данными"
   ]
  },
  {
   "cell_type": "code",
   "execution_count": 733,
   "id": "4dee859d-437a-4a9a-9169-ecf63fcf8db2",
   "metadata": {},
   "outputs": [],
   "source": [
    "pet.to_csv('data.csv', index=False) "
   ]
  }
 ],
 "metadata": {
  "kernelspec": {
   "display_name": "Python 3 (ipykernel)",
   "language": "python",
   "name": "python3"
  },
  "language_info": {
   "codemirror_mode": {
    "name": "ipython",
    "version": 3
   },
   "file_extension": ".py",
   "mimetype": "text/x-python",
   "name": "python",
   "nbconvert_exporter": "python",
   "pygments_lexer": "ipython3",
   "version": "3.10.12"
  }
 },
 "nbformat": 4,
 "nbformat_minor": 5
}
