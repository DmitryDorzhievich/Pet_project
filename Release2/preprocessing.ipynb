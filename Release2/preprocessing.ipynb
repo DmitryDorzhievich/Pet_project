{
 "cells": [
  {
   "cell_type": "code",
   "execution_count": 213,
   "id": "09f4ba11-877c-4646-b446-f23d7954bf84",
   "metadata": {},
   "outputs": [],
   "source": [
    "import math\n",
    "\n",
    "import pandas as pd\n",
    "import numpy as np\n",
    "\n",
    "import matplotlib as mpl\n",
    "import matplotlib.pyplot as plt\n",
    "import seaborn as sns"
   ]
  },
  {
   "cell_type": "markdown",
   "id": "95638016-49c2-472f-9069-e88d9936034b",
   "metadata": {},
   "source": [
    "# Импортируем датасет"
   ]
  },
  {
   "cell_type": "code",
   "execution_count": 214,
   "id": "d6e424e1-e5a1-4f54-82f1-151d61ed3ddf",
   "metadata": {},
   "outputs": [],
   "source": [
    "path = '/home/dmitry/reposit/Pet_project.test/_data.csv'"
   ]
  },
  {
   "cell_type": "code",
   "execution_count": 215,
   "id": "364a55e4-8ded-479f-aa9a-80f64c659c3f",
   "metadata": {},
   "outputs": [],
   "source": [
    "pet = pd.read_csv(path, index_col=0)"
   ]
  },
  {
   "cell_type": "markdown",
   "id": "fab9789c-818b-4cf5-b8da-d3ee659546d1",
   "metadata": {},
   "source": [
    "# Оставляем только объявления, которые относятся к городу Москва"
   ]
  },
  {
   "cell_type": "code",
   "execution_count": 216,
   "id": "d0abdc9b-0200-4398-9d8d-258a8eecb9e3",
   "metadata": {},
   "outputs": [],
   "source": [
    "pet['Адрес']  = pet['Адрес'].str.split(', ')\n",
    "pet['Адрес'] = pet['Адрес'].apply(lambda x: x[0])"
   ]
  },
  {
   "cell_type": "code",
   "execution_count": 217,
   "id": "6685cfdf-6e23-49b9-8c9d-9f77df3ffb4c",
   "metadata": {},
   "outputs": [],
   "source": [
    "pet = pet[pet['Адрес'] =='Москва']\n",
    "pet = pet.reset_index(drop=True)"
   ]
  },
  {
   "cell_type": "markdown",
   "id": "bf8deef7-d51d-41f5-a70c-225e3d386f57",
   "metadata": {},
   "source": [
    "# Создаем колонку - \"price\", выделив цену из колонки \"цена\""
   ]
  },
  {
   "cell_type": "code",
   "execution_count": 218,
   "id": "b95ba506-555f-41bd-99ed-dd27d6ebdd31",
   "metadata": {},
   "outputs": [],
   "source": [
    "lst = []\n",
    "for item in pet['Цена'].tolist():\n",
    "    if '$' in item:\n",
    "        lst.append(95*float(item[:item.find('$')]))\n",
    "    elif '€' in item:\n",
    "        lst.append(102*float(item[:item.find('€')]))\n",
    "    else:\n",
    "        lst.append(float(item[:item.find('руб')]))"
   ]
  },
  {
   "cell_type": "code",
   "execution_count": 219,
   "id": "06f30d25-2fc4-4357-b98f-e5226c5a4bf7",
   "metadata": {},
   "outputs": [],
   "source": [
    "pet['price'] = lst"
   ]
  },
  {
   "cell_type": "markdown",
   "id": "4e391ac8-ec4b-4bd4-ad6e-c3531e73fae9",
   "metadata": {},
   "source": [
    "# Создаем колонку - \"total_area\", выделив общую площадь из колонки \"Площадь, м2\""
   ]
  },
  {
   "cell_type": "code",
   "execution_count": 220,
   "id": "23af9031-da1c-4120-b293-064843982ed1",
   "metadata": {},
   "outputs": [],
   "source": [
    "lst2 = []\n",
    "for j in pet['Площадь, м2'].tolist():\n",
    "    j1 = j.split('/')\n",
    "    lst2.append(float(j1[0]))\n",
    "pet['total_area'] = lst2"
   ]
  },
  {
   "cell_type": "markdown",
   "id": "b03326e4-d896-4953-b2cb-54c29b68986d",
   "metadata": {},
   "source": [
    "# Удаляем ненужные для дальнейшего анализа колонки"
   ]
  },
  {
   "cell_type": "code",
   "execution_count": 221,
   "id": "ca494376-63c3-46c6-add5-441c4c40dcb0",
   "metadata": {},
   "outputs": [],
   "source": [
    "pet = pet.drop('Площадь, м2',axis=1)\n",
    "pet = pet.drop('Тип', axis=1)\n",
    "pet = pet.drop('Серия дома', axis=1)\n",
    "pet = pet.drop('Название ЖК', axis=1)\n",
    "pet = pet.drop('Телефоны', axis=1)\n",
    "pet = pet.drop('Ссылка на объявление', axis=1)\n",
    "pet = pet.drop('Цена', axis=1)\n",
    "pet = pet.drop('Площадь комнат, м2',axis=1)\n",
    "pet = pet.drop('Окна',axis=1)"
   ]
  },
  {
   "cell_type": "markdown",
   "id": "84798643-0e63-466f-8bcf-6a25976f09e6",
   "metadata": {},
   "source": [
    "# Из колонки \"Количество комнат\" выделяем численное значение и заполняем пустые строки средним значением"
   ]
  },
  {
   "cell_type": "code",
   "execution_count": 222,
   "id": "7f0cd0f6-f5d6-49ff-add5-bac913617b4e",
   "metadata": {},
   "outputs": [],
   "source": [
    "pet['Количество комнат'] = pet['Количество комнат'].str.replace(r'\\D', '', regex=True)\n",
    "pet['Количество комнат'] = pd.to_numeric(pet['Количество комнат'], errors='coerce')\n",
    "pet['Количество комнат'] = pet['Количество комнат'].fillna(pet['Количество комнат'].mean()).round(1)"
   ]
  },
  {
   "cell_type": "markdown",
   "id": "1bf6f6a6-39e0-4077-9990-6f26436809f5",
   "metadata": {},
   "source": [
    "# Выделяем численное значения времени ходьбы до метро, меняем аномально большие значения и пропуски на \"40 минут\"."
   ]
  },
  {
   "cell_type": "code",
   "execution_count": 223,
   "id": "86b1476e-d813-4365-ace3-4a90f5520362",
   "metadata": {},
   "outputs": [],
   "source": [
    "pet['Метро'] = pet['Метро'].str.replace(r'\\D', '', regex=True)\n",
    "pet['Метро'] = pd.to_numeric(pet['Метро'], errors='coerce')\n",
    "pet['Метро'] = pet['Метро'].apply(lambda x: 40 if x > 40 else x)\n",
    "pet['Метро'] = pet['Метро'].fillna(pet['Метро'].max())"
   ]
  },
  {
   "cell_type": "markdown",
   "id": "778abae0-052b-42b3-b305-3554a86c965c",
   "metadata": {},
   "source": [
    "# Заполняем пустые строки в колонке \"Санузел\" наиболее часто встречающимся значением, т.к. мы предположили, что это значение забыли указать."
   ]
  },
  {
   "cell_type": "code",
   "execution_count": 224,
   "id": "1cad71de-935d-4826-84c0-9ae26ae9d609",
   "metadata": {},
   "outputs": [],
   "source": [
    "mode_sanuzel = pet['Санузел'].mode().iloc[0]\n",
    "pet['Санузел'] = pet['Санузел'].fillna(mode_sanuzel)"
   ]
  },
  {
   "cell_type": "markdown",
   "id": "1feac731-d37c-4e26-8902-86e4fdc9ef85",
   "metadata": {},
   "source": [
    "# Пустые строки в колонке \"Высота потолков, м\" были заменены на медианное значение, т.к. при анализе замечены аномальные значения."
   ]
  },
  {
   "cell_type": "code",
   "execution_count": 225,
   "id": "75752416-5373-4bb6-8c23-35958d856fc7",
   "metadata": {},
   "outputs": [],
   "source": [
    "pet['Высота потолков, м'] = pet['Высота потолков, м'].fillna(pet['Высота потолков, м'].median())"
   ]
  },
  {
   "cell_type": "markdown",
   "id": "f97c43f0-49b8-4194-a4ee-b7925d3b9719",
   "metadata": {},
   "source": [
    "# Во всех оставшихся колонках, было принято решение - на место пропусков записать отсутствие информации/отсутствие опции"
   ]
  },
  {
   "cell_type": "code",
   "execution_count": 226,
   "id": "03c7e583-86cc-4cd7-8ba0-1d3c1b0a70a8",
   "metadata": {},
   "outputs": [],
   "source": [
    "pet['Мусоропровод'] = pet['Мусоропровод'].fillna('Нет')\n",
    "pet['Дополнительно'] = pet['Дополнительно'].fillna('Нет мебели')\n",
    "pet['Лифт'] = pet['Лифт'].fillna('Нет лифта')\n",
    "pet['Ремонт'] = pet['Ремонт'].fillna('Нет ремонта')\n",
    "pet['Парковка'] = pet['Парковка'].fillna('Нет данных')\n",
    "pet['Балкон'] = pet['Балкон'].fillna('Нет денных')\n",
    "pet['Можно с детьми/животными'] = pet['Можно с детьми/животными'].fillna('Нет денных')"
   ]
  },
  {
   "cell_type": "markdown",
   "id": "ce5043a5-1cb8-4258-b9e2-da65da5cb089",
   "metadata": {},
   "source": [
    "# Приводим названия колонок к общепринятому формату."
   ]
  },
  {
   "cell_type": "code",
   "execution_count": 227,
   "id": "91b0d412-19d1-4aa6-bdca-57d553bc40f3",
   "metadata": {},
   "outputs": [],
   "source": [
    "pet = pet.rename(columns={'ID  объявления': 'ad_id',\n",
    "    'Количество комнат': 'number_of_rooms',\n",
    "    'Метро': 'metro',\n",
    "    'Адрес': 'address',\n",
    "    'Дом': 'house',\n",
    "    'Парковка': 'parking',\n",
    "    'Описание': 'description',\n",
    "    'Ремонт': 'renovation',\n",
    "    'Балкон': 'balcony',\n",
    "    'Санузел': 'bathroom',\n",
    "    'Можно с детьми/животными': 'children_pets',\n",
    "    'Дополнительно': 'additional_info',\n",
    "    'Высота потолков, м': 'ceiling_height_(m)',\n",
    "    'Лифт': 'elevator',\n",
    "    'Мусоропровод': 'trash_chute',\n",
    "    'price': 'price',\n",
    "    'Общая площадь': 'total_area'})"
   ]
  },
  {
   "cell_type": "markdown",
   "id": "6f45b9ad-12a6-4b1c-ae8b-8079325e06bf",
   "metadata": {},
   "source": [
    "# Сохраняем очищенный датасет."
   ]
  },
  {
   "cell_type": "code",
   "execution_count": 229,
   "id": "05c9931b-84ac-4249-9eb9-c7eda7b3fab5",
   "metadata": {},
   "outputs": [],
   "source": [
    "pet.to_csv('data.csv', index=False) "
   ]
  }
 ],
 "metadata": {
  "kernelspec": {
   "display_name": "Python 3 (ipykernel)",
   "language": "python",
   "name": "python3"
  },
  "language_info": {
   "codemirror_mode": {
    "name": "ipython",
    "version": 3
   },
   "file_extension": ".py",
   "mimetype": "text/x-python",
   "name": "python",
   "nbconvert_exporter": "python",
   "pygments_lexer": "ipython3",
   "version": "3.10.12"
  }
 },
 "nbformat": 4,
 "nbformat_minor": 5
}
